{
 "cells": [
  {
   "cell_type": "code",
   "execution_count": null,
   "metadata": {
    "collapsed": true
   },
   "outputs": [],
   "source": [
    "import sys\n",
    "import os\n",
    "import json\n",
    "import pickle\n",
    "\n",
    "main_dir = os.path.dirname(os.path.abspath(''))\n",
    "sys.path.insert(0, main_dir)\n",
    "\n",
    "from src.commands.train import Trainer"
   ]
  },
  {
   "cell_type": "code",
   "execution_count": null,
   "outputs": [],
   "source": [
    "# Training"
   ],
   "metadata": {
    "collapsed": false,
    "pycharm": {
     "name": "#%%\n"
    }
   }
  },
  {
   "cell_type": "code",
   "execution_count": null,
   "outputs": [],
   "source": [
    "config_name = 'config_name'\n",
    "\n",
    "relative_config_path = os.path.join('configs/', config_name + '.json')\n",
    "with open(os.path.join(main_dir, relative_config_path), 'r') as f:\n",
    "    config = json.load(f)"
   ],
   "metadata": {
    "collapsed": false,
    "pycharm": {
     "name": "#%%\n"
    }
   }
  },
  {
   "cell_type": "code",
   "execution_count": null,
   "outputs": [],
   "source": [
    "trainer = Trainer(config)\n",
    "trainer.train()"
   ],
   "metadata": {
    "collapsed": false,
    "pycharm": {
     "name": "#%%\n"
    }
   }
  },
  {
   "cell_type": "code",
   "execution_count": null,
   "outputs": [],
   "source": [
    "# Evaluation"
   ],
   "metadata": {
    "collapsed": false,
    "pycharm": {
     "name": "#%%\n"
    }
   }
  },
  {
   "cell_type": "code",
   "execution_count": null,
   "outputs": [],
   "source": [
    "from src.commands.generate_volume import generate_volume\n",
    "from src import analysis\n",
    "import matplotlib.pyplot as plt\n",
    "import numpy as np"
   ],
   "metadata": {
    "collapsed": false,
    "pycharm": {
     "name": "#%%\n"
    }
   }
  },
  {
   "cell_type": "code",
   "execution_count": null,
   "outputs": [],
   "source": [
    "## PCA"
   ],
   "metadata": {
    "collapsed": false,
    "pycharm": {
     "name": "#%%\n"
    }
   }
  },
  {
   "cell_type": "code",
   "execution_count": null,
   "outputs": [],
   "source": [
    "z_pred_pkl = 'path_to_predicted_conf.pkl'\n",
    "\n",
    "with open(z_pred_pkl, 'rb') as f:\n",
    "    z_pred = pickle.load(f)\n",
    "\n",
    "pc, pca = analysis.run_pca(z_pred)\n",
    "\n",
    "plt.figure(figsize=(6, 6), dpi=150)\n",
    "plt.plot(pc[:, 0], pc[:, 1], 'k.')\n",
    "plt.grid(True)\n",
    "plt.xlabel('PC1')\n",
    "plt.ylabel('PC1')\n",
    "plt.show()"
   ],
   "metadata": {
    "collapsed": false,
    "pycharm": {
     "name": "#%%\n"
    }
   }
  },
  {
   "cell_type": "code",
   "execution_count": null,
   "outputs": [],
   "source": [
    "## Generate Volumes"
   ],
   "metadata": {
    "collapsed": false,
    "pycharm": {
     "name": "#%%\n"
    }
   }
  },
  {
   "cell_type": "code",
   "execution_count": null,
   "outputs": [],
   "source": [
    "weights = 'path_to_model_weights.pkl'\n",
    "n_volumes = 25\n",
    "resolution = 128  # Make sure this is the resolution of the images given during training\n",
    "\n",
    "out_dir = os.path.dirname(z_pred_pkl)\n",
    "zs = analysis.get_pc_traj(pca, config[\"z_dim\"], n_volumes, 1, np.min(pc[..., 0]), np.max(pc[..., 0]))\n",
    "z_pkl = os.path.join(os.path.dirname(z_pred_pkl), 'z_traversal.pkl')\n",
    "\n",
    "with open(z_pkl, 'wb') as f:\n",
    "    pickle.dump(zs, f)\n",
    "\n",
    "generate_volume(config, weights, resolution, out_dir, z_pkl)"
   ],
   "metadata": {
    "collapsed": false,
    "pycharm": {
     "name": "#%%\n"
    }
   }
  }
 ],
 "metadata": {
  "kernelspec": {
   "display_name": "Python 3",
   "language": "python",
   "name": "python3"
  },
  "language_info": {
   "codemirror_mode": {
    "name": "ipython",
    "version": 2
   },
   "file_extension": ".py",
   "mimetype": "text/x-python",
   "name": "python",
   "nbconvert_exporter": "python",
   "pygments_lexer": "ipython2",
   "version": "2.7.6"
  }
 },
 "nbformat": 4,
 "nbformat_minor": 0
}